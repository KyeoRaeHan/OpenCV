{
 "cells": [
  {
   "cell_type": "code",
   "execution_count": null,
   "metadata": {},
   "outputs": [],
   "source": [
    "import cv2, numpy as np\n",
    "\n",
    "# 왼쪽 오른쪽 사진 읽기\n",
    "imgL = cv2.imread('C:\\\\Users\\\\user\\\\AI_vision\\\\data\\\\img\\\\restaurant1.jpg') # train\n",
    "imgR = cv2.imread('C:\\\\Users\\\\user\\\\AI_vision\\\\data\\\\img\\\\restaurant2.jpg') # query\n",
    "hl, wl = imgL.shape[:2] ##이거 무슨 의미지? 리스트자료형\n",
    "hr, wr = imgR.shape[:2]\n",
    "\n",
    "grayL = cv2.cvtColor(imgL, cv2.COLOR_BGR2GRAY)\n",
    "grayR = cv2.cvtColor(imgR, cv2.COLOR_BGR2GRAY)\n",
    "\n",
    "# SIFT 특징 검출기 생성 및 특징점 검출\n",
    "descriptor = cv2.xfeatures2d.SIFT_create()\n",
    "(kpsL, featuresL) = descriptor.detectAndCompute(imgL, None)\n",
    "(kpsR, featuresR) = descriptor.detectAndCompute(imgR, None)\n",
    "# BF 매칭기 생성 및 knn매칭\n",
    "matcher = cv2.DescriptorMatcher_create(\"BruteForce\")\n",
    "matches = matcher.knnMatch(featuresR, featuresL, 2)\n",
    "\n",
    "# 좋은 매칭점 선별\n",
    "good_matches = []\n",
    "for m in matches:\n",
    "    if len(m) == 2 and m[0].distance < m[1].distance * 0.75:\n",
    "        good_matches.append(( m[0].trainIdx, m[0].queryIdx))\n",
    "\n",
    "# 좋은 매칭점이 4개 이상 원근 변환 행렬 구하기\n",
    "if len(good_matches) > 4:\n",
    "    ptsL = np.float32([kpsL[i].pt for (i, _) in good_matches])\n",
    "    ptsR = np.float32([kpsR[i].pt for (_, i) in good_matches])\n",
    "    mtrx, status = cv2.findHomography(ptsR,ptsL, cv2.RANSAC, 4.0)\n",
    "    #원근 변환 행렬로 오른쪽 사진을 원근 변환, 결과 이미지 크기는 사진 2장 크기\n",
    "    panorama = cv2.warpPerspective(imgR, mtrx, (wr + wl, hr))\n",
    "    # 왼쪽 사진을 원근 변환한 왼쪽 영역에 합성\n",
    "    panorama[0:hl, 0:wl] = imgL\n",
    "else:\n",
    "    panorama = imgL\n",
    "cv2.imshow(\"Image Left\", imgL)\n",
    "cv2.imshow(\"Image Right\", imgR)\n",
    "cv2.imshow(\"Panorama\", panorama)\n",
    "cv2.waitKey(0)                        "
   ]
  }
 ],
 "metadata": {
  "kernelspec": {
   "display_name": "Python 3",
   "language": "python",
   "name": "python3"
  }
 },
 "nbformat": 4,
 "nbformat_minor": 2
}
