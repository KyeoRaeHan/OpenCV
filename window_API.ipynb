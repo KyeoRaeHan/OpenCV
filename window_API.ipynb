{
 "cells": [
  {
   "cell_type": "markdown",
   "metadata": {},
   "source": [
    "cv2.nameWindow(title, [, option]): 이름을 갖는 창 열기\n",
    "cv2.moveWindow\n",
    "cv2.resizeWindow\n",
    "cv2.destroyWindow\n",
    "cv2.destroyAllWindows()  "
   ]
  },
  {
   "cell_type": "code",
   "execution_count": 4,
   "metadata": {},
   "outputs": [],
   "source": [
    "import cv2\n",
    "\n",
    "file_path = 'C:\\\\Users\\\\user\\\\AI_vision\\\\data\\\\img\\\\girl.jpg'\n",
    "img = cv2.imread(file_path)                            # 이미지를 기본 값으로 읽기\n",
    "img_gray = cv2.imread(file_path, cv2.IMREAD_GRAYSCALE) # 이미지를 그레이 스케일로 읽기\n",
    "\n",
    "cv2.namedWindow('origin')                               # origin 이름으로 창 생성\n",
    "cv2.namedWindow('gray', cv2.WINDOW_NORMAL)              # gray 이름으로 창 생성\n",
    "cv2.imshow('origin', img)                               # origin 창에 이미지 표시\n",
    "cv2.imshow('gray', img_gray)                            # gray 창에 이미지 표시\n",
    "\n",
    "cv2.moveWindow('origin', 0, 0)                          # 창 위치 변경\n",
    "cv2.moveWindow('gray', 100, 100)                        # 창 위치 변경\n",
    "\n",
    "cv2.waitKey(0)                                          # 아무키나 누르면\n",
    "cv2.resizeWindow('origin', 200, 200)                    # 창 크기 변경 (변경 안됨)\n",
    "cv2.resizeWindow('gray', 100, 100)                      # 창 크기 변경 (변경 됨))\n",
    "\n",
    "cv2.waitKey(0)                                          # 아무키나 누르면\n",
    "cv2.destroyWindow(\"gray\")                               # gray 창 닫기\n",
    "\n",
    "cv2.waitKey(0)                                          # 아무키나 누르면\n",
    "cv2.destroyAllWindows()                                 # 모든 창 닫기"
   ]
  },
  {
   "cell_type": "code",
   "execution_count": null,
   "metadata": {},
   "outputs": [],
   "source": []
  }
 ],
 "metadata": {
  "kernelspec": {
   "display_name": "Python 3",
   "language": "python",
   "name": "python3"
  },
  "language_info": {
   "codemirror_mode": {
    "name": "ipython",
    "version": 3
   },
   "file_extension": ".py",
   "mimetype": "text/x-python",
   "name": "python",
   "nbconvert_exporter": "python",
   "pygments_lexer": "ipython3",
   "version": "3.7.3"
  }
 },
 "nbformat": 4,
 "nbformat_minor": 2
}
