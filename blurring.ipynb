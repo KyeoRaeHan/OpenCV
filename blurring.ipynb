{
 "cells": [
  {
   "cell_type": "code",
   "execution_count": null,
   "metadata": {},
   "outputs": [],
   "source": [
    "# 평균 블러링"
   ]
  },
  {
   "cell_type": "code",
   "execution_count": null,
   "metadata": {},
   "outputs": [],
   "source": [
    "# cv2.filter2D: OpenCV에서 컨볼루션 연산을 담당한다."
   ]
  },
  {
   "cell_type": "code",
   "execution_count": null,
   "metadata": {},
   "outputs": [],
   "source": [
    "import cv2\n",
    "import numpy as np\n",
    "\n",
    "img = cv2.imread('C:\\\\Users\\\\user\\\\AI_vision\\\\data\\\\img\\\\girl.jpg')\n",
    "'''\n",
    "#5x5 평균 필터 커널 생성    ---①\n",
    "kernel = np.array([[0.04, 0.04, 0.04, 0.04, 0.04],\n",
    "                   [0.04, 0.04, 0.04, 0.04, 0.04],\n",
    "                   [0.04, 0.04, 0.04, 0.04, 0.04],\n",
    "                   [0.04, 0.04, 0.04, 0.04, 0.04],\n",
    "                   [0.04, 0.04, 0.04, 0.04, 0.04]])\n",
    "'''\n",
    "# 5x5 평균 필터 커널 생성  ---②\n",
    "kernel = np.ones((5,5))/5**2 #1로 초기화된 (5,5)크기의 배열 생성 후, 25(5**2)로 나눔.\n",
    "\n",
    "# 필터 적용             ---③\n",
    "blured = cv2.filter2D(img, -1, kernel) \n",
    "\n",
    "# 결과 출력\n",
    "cv2.imshow('origin', img)\n",
    "cv2.imshow('avrg blur', blured) \n",
    "cv2.waitKey()\n",
    "cv2.destroyAllWindows()"
   ]
  },
  {
   "cell_type": "code",
   "execution_count": null,
   "metadata": {},
   "outputs": [],
   "source": [
    "# cv2.blur(src:입력영상, ksize:커널의 크기, [,dst, anchor, borderType])\n",
    "# 커널의 크기는 홀수로 사용하는 것이 일반적이다.\n",
    "# cv2.boxFilter(src, ddepth, ksize[, dst, anchor, normalize, borderType])\n",
    "# normalize인자 true = cv2.blur()\n",
    "# normalize인자 false = 커널영역의 모든 픽셀의 합을 구함, 객체 추적 알고리즘에 사용"
   ]
  },
  {
   "cell_type": "code",
   "execution_count": null,
   "metadata": {},
   "outputs": [],
   "source": [
    "import cv2\n",
    "import numpy as np\n",
    "\n",
    "file_name = 'C:\\\\Users\\\\user\\\\AI_vision\\\\data\\\\img\\\\taekwonv1.jpg'\n",
    "img = cv2.imread(file_name)\n",
    "\n",
    "# blur() 함수로 블러링  ---①\n",
    "blur1 = cv2.blur(img, (30,30))\n",
    "# boxFilter() 함수로 블러링 적용 ---②\n",
    "blur2 = cv2.boxFilter(img, -1, (10,10)) #출력영상의 dtype, -1:입력 영상과 동일\n",
    "\n",
    "# 결과 출력\n",
    "merged = np.hstack( (img, blur1, blur2)) #array배열을 수평으로 통합\n",
    "cv2.imshow('blur', merged)\n",
    "cv2.waitKey(0)\n",
    "cv2.destroyAllWindows()"
   ]
  },
  {
   "cell_type": "code",
   "execution_count": null,
   "metadata": {},
   "outputs": [],
   "source": [
    "# 가우시안 블러링\n",
    "# 커널의 중앙값이 가장 크고, 멀어질수록 그 값이 작아지는 커널을 사용한다."
   ]
  },
  {
   "cell_type": "code",
   "execution_count": null,
   "metadata": {},
   "outputs": [],
   "source": [
    "import cv2\n",
    "import numpy as np\n",
    "\n",
    "img = cv2.imread('C:\\\\Users\\\\user\\\\AI_vision\\\\data\\\\img\\\\gaussian_noise.jpg')\n",
    "\n",
    "# 가우시안 커널을 직접 생성해서 블러링  ---①\n",
    "k1 = np.array([[1, 2, 1],\n",
    "                   [2, 4, 2],\n",
    "                   [1, 2, 1]]) *(1/16)\n",
    "blur1 = cv2.filter2D(img, -1, k1)\n",
    "\n",
    "# 가우시안 커널을 API로 얻어서 블러링 ---②\n",
    "k2 = cv2.getGaussianKernel(3, 0)\n",
    "blur2 = cv2.filter2D(img, -1, k2*k2.T)\n",
    "\n",
    "# 가우시안 블러 API로 블러링 ---③\n",
    "blur3 = cv2.GaussianBlur(img, (3, 3), 0)\n",
    "\n",
    "# 결과 출력\n",
    "print('k1:', k1)\n",
    "print('k2:', k2*k2.T)\n",
    "merged = np.hstack((img, blur1, blur2, blur3))\n",
    "cv2.imshow('gaussian blur', merged)\n",
    "cv2.waitKey(0)\n",
    "cv2.destroyAllWindows()"
   ]
  },
  {
   "cell_type": "code",
   "execution_count": null,
   "metadata": {},
   "outputs": [],
   "source": [
    "# 미디언 블러링\n",
    "# 커널 영역의 픽셀 값 중에 중간 값을 대상 픽셀의 값으로 선택하는 것\n",
    "# 새로운 값을 생성하는 것이 아니라 기존값을 재활용한다는 특징"
   ]
  },
  {
   "cell_type": "code",
   "execution_count": null,
   "metadata": {},
   "outputs": [],
   "source": [
    "import cv2\n",
    "import numpy as np\n",
    "\n",
    "img = cv2.imread(\"../img/salt_pepper_noise.jpg\")\n",
    "\n",
    "# 미디언 블러 적용 --- ①\n",
    "blur = cv2.medianBlur(img, 5)\n",
    "\n",
    "# 결과 출력 \n",
    "merged = np.hstack((img,blur))\n",
    "cv2.imshow('media', merged)\n",
    "cv2.waitKey(0)\n",
    "cv2.destroyAllWindows()"
   ]
  },
  {
   "cell_type": "code",
   "execution_count": null,
   "metadata": {},
   "outputs": [],
   "source": [
    "# 바이레터럴 필터\n",
    "# 경계(edge)가 무너지는 블러링 필터의 단점을 개선한 필터\n",
    "# 노이즈는 없고, 경계가 비교적 뚜렷한 영상을 얻을 수 있지만, 느리다는 단점이 있다."
   ]
  },
  {
   "cell_type": "code",
   "execution_count": null,
   "metadata": {},
   "outputs": [],
   "source": [
    "import cv2\n",
    "import numpy as np\n",
    "\n",
    "img = cv2.imread(\"C:\\\\Users\\\\user\\\\AI_vision\\\\data\\\\img\\\\gaussian_noise.jpg\")\n",
    "\n",
    "# 가우시안 필터 적용 ---①\n",
    "blur1 = cv2.GaussianBlur(img, (5,5), 0)\n",
    "\n",
    "# 바이레터럴 필터 적용 ---②\n",
    "blur2 = cv2.bilateralFilter(img, 5, 75, 75)\n",
    "\n",
    "# 결과 출력\n",
    "merged = np.hstack((img, blur1, blur2))\n",
    "cv2.imshow('bilateral', merged)\n",
    "cv2.waitKey(0)\n",
    "cv2.destroyAllWindows()"
   ]
  },
  {
   "cell_type": "code",
   "execution_count": null,
   "metadata": {},
   "outputs": [],
   "source": []
  }
 ],
 "metadata": {
  "kernelspec": {
   "display_name": "Python 3",
   "language": "python",
   "name": "python3"
  },
  "language_info": {
   "codemirror_mode": {
    "name": "ipython",
    "version": 3
   },
   "file_extension": ".py",
   "mimetype": "text/x-python",
   "name": "python",
   "nbconvert_exporter": "python",
   "pygments_lexer": "ipython3",
   "version": "3.7.3"
  }
 },
 "nbformat": 4,
 "nbformat_minor": 2
}
