{
 "cells": [
  {
   "cell_type": "code",
   "execution_count": 1,
   "metadata": {},
   "outputs": [],
   "source": [
    "# morphology(형태햑)\n",
    "# 노이즈 제거, 구멍 메꾸기, 연결 되지않은 경계 이어붙이기 등 형태학점 관점에서의 영상 연산."
   ]
  },
  {
   "cell_type": "code",
   "execution_count": null,
   "metadata": {},
   "outputs": [],
   "source": [
    "# 침식연산: 원래 있던 객체의 영역을 깍아 내는 연산입니다."
   ]
  },
  {
   "cell_type": "code",
   "execution_count": null,
   "metadata": {},
   "outputs": [],
   "source": [
    "import cv2\n",
    "import numpy as np\n",
    "\n",
    "img = cv2.imread('C:\\\\Users\\\\user\\\\AI_vision\\\\data\\\\img\\\\morph_dot.png')\n",
    "\n",
    "# 구조화 요소 커널, 사각형 (3x3) 생성 ---①\n",
    "k = cv2.getStructuringElement(cv2.MORPH_RECT, (3,3))\n",
    "# 침식 연산 적용 ---②\n",
    "erosion = cv2.erode(img, k)\n",
    "\n",
    "# 결과 출력\n",
    "merged = np.hstack((img, erosion))\n",
    "cv2.imshow('Erode', merged)\n",
    "cv2.waitKey(0)\n",
    "cv2.destroyAllWindows()"
   ]
  },
  {
   "cell_type": "code",
   "execution_count": null,
   "metadata": {},
   "outputs": [],
   "source": [
    "# 팽창연산: 영상 속 사물의 주변을 덧붙여서 영역을 더 확장하는 연산"
   ]
  },
  {
   "cell_type": "code",
   "execution_count": null,
   "metadata": {},
   "outputs": [],
   "source": [
    "import cv2\n",
    "import numpy as np\n",
    "\n",
    "img = cv2.imread('C:\\\\Users\\\\user\\\\AI_vision\\\\data\\\\img\\\\morph_hole.png')\n",
    "\n",
    "# 구조화 요소 커널, 사각형 (3x3) 생성 ---①\n",
    "k = cv2.getStructuringElement(cv2.MORPH_CROSS, (3,3))\n",
    "# 팽창 연산 적용 ---②\n",
    "dst = cv2.dilate(img, k)\n",
    "\n",
    "# 결과 출력\n",
    "merged = np.hstack((img, dst))\n",
    "cv2.imshow('Dilation', merged)\n",
    "cv2.waitKey(0)\n",
    "cv2.destroyAllWindows()"
   ]
  },
  {
   "cell_type": "code",
   "execution_count": null,
   "metadata": {},
   "outputs": [],
   "source": [
    "# 열림과 닫힘, 그밖의 모폴로지 연산\n",
    "# 열림연산: 침삭 연산 작용 후, 팽창 연산 작용\n",
    "# 닫힘연산: 주변보다 어두운 노잊 제거에 효과적이면서 끊어져보인ㄴ 개체를 연결하거나 구멍을 메우는데 좋다\n",
    "# 그레이디언트 = 팽창 - 침식\n",
    "# 탑햇 = 원본 - 열림\n",
    "# 블랙햇 = 닫힘 - 원본"
   ]
  },
  {
   "cell_type": "code",
   "execution_count": null,
   "metadata": {},
   "outputs": [],
   "source": [
    "# cv2.morphologyEx()"
   ]
  },
  {
   "cell_type": "code",
   "execution_count": null,
   "metadata": {},
   "outputs": [],
   "source": [
    "# 모폴로지 그레이디언트"
   ]
  },
  {
   "cell_type": "code",
   "execution_count": null,
   "metadata": {},
   "outputs": [],
   "source": [
    "import cv2\n",
    "import numpy as np\n",
    "\n",
    "img = cv2.imread('C:\\\\Users\\\\user\\\\AI_vision\\\\data\\\\img\\\\morphological.png')\n",
    "\n",
    "# 구조화 요소 커널, 사각형 (3x3) 생성 ---①\n",
    "k = cv2.getStructuringElement(cv2.MORPH_RECT, (3,3))\n",
    "# 열림 연산 적용 ---②\n",
    "gradient = cv2.morphologyEx(img, cv2.MORPH_GRADIENT, k)\n",
    "\n",
    "# 결과 출력\n",
    "merged = np.hstack((img, gradient))\n",
    "cv2.imshow('gradient', merged)\n",
    "cv2.waitKey(0)\n",
    "cv2.destroyAllWindows()"
   ]
  },
  {
   "cell_type": "code",
   "execution_count": null,
   "metadata": {},
   "outputs": [],
   "source": []
  }
 ],
 "metadata": {
  "kernelspec": {
   "display_name": "Python 3",
   "language": "python",
   "name": "python3"
  }
 },
 "nbformat": 4,
 "nbformat_minor": 2
}
