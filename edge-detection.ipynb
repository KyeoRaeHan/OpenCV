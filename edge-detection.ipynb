{
 "cells": [
  {
   "cell_type": "code",
   "execution_count": null,
   "metadata": {},
   "outputs": [],
   "source": [
    "# 경계검출"
   ]
  },
  {
   "cell_type": "code",
   "execution_count": null,
   "metadata": {},
   "outputs": [],
   "source": [
    "import cv2\n",
    "import numpy as np\n",
    "\n",
    "img = cv2.imread(\"C:\\\\Users\\\\user\\\\AI_vision\\\\data\\\\img\\\\sudoku.jpg\")\n",
    "\n",
    "# 소벨 커널을 직접 생성해서 엣지 검출 ---①\n",
    "## 소벨 커널 생성\n",
    "gx_k = np.array([[-1,0,1], [-2,0,2],[-1,0,1]])\n",
    "gy_k = np.array([[-1,-2,-1],[0,0,0], [1,2,1]])\n",
    "## 소벨 필터 적용\n",
    "edge_gx = cv2.filter2D(img, -1, gx_k)\n",
    "edge_gy = cv2.filter2D(img, -1, gy_k)\n",
    "\n",
    "# 소벨 API를 생성해서 엣지 검출\n",
    "sobelx = cv2.Sobel(img, -1, 1, 0, ksize=3)\n",
    "sobely = cv2.Sobel(img, -1, 0, 1, ksize=3) \n",
    "\n",
    "# 결과 출력\n",
    "merged1 = np.hstack((img, edge_gx, edge_gy, edge_gx+edge_gy))\n",
    "merged2 = np.hstack((img, sobelx, sobely, sobelx+sobely))\n",
    "merged = np.vstack((merged1, merged2))\n",
    "cv2.imshow('sobel', merged)\n",
    "cv2.waitKey(0)\n",
    "cv2.destroyAllWindows()"
   ]
  },
  {
   "cell_type": "code",
   "execution_count": null,
   "metadata": {},
   "outputs": [],
   "source": []
  }
 ],
 "metadata": {
  "kernelspec": {
   "display_name": "Python 3",
   "language": "python",
   "name": "python3"
  },
  "language_info": {
   "codemirror_mode": {
    "name": "ipython",
    "version": 3
   },
   "file_extension": ".py",
   "mimetype": "text/x-python",
   "name": "python",
   "nbconvert_exporter": "python",
   "pygments_lexer": "ipython3",
   "version": "3.7.3"
  }
 },
 "nbformat": 4,
 "nbformat_minor": 2
}
