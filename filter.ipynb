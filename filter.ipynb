{
 "cells": [
  {
   "cell_type": "code",
   "execution_count": null,
   "metadata": {},
   "outputs": [],
   "source": [
    "import cv2\n",
    "import numpy as np\n",
    "\n",
    "file_name = 'C:\\\\Users\\\\user\\\\AI_vision\\\\data\\\\img\\\\taekwonv1.jpg'\n",
    "img = cv2.imread(file_name) \n",
    "\n",
    "# blur() 함수로 블러링  ---①\n",
    "blur1 = cv2.blur(img, (10,10))\n",
    "# boxFilter() 함수로 블러링 적용 ---②\n",
    "blur2 = cv2.boxFilter(img, -1, (10,10))\n",
    "\n",
    "# 결과 출력\n",
    "merged = np.hstack( (img, blur1, blur2))\n",
    "cv2.imshow('blur', merged)\n",
    "cv2.waitKey(0)\n",
    "cv2.destroyAllWindows()"
   ]
  },
  {
   "cell_type": "code",
   "execution_count": null,
   "metadata": {},
   "outputs": [],
   "source": []
  },
  {
   "cell_type": "code",
   "execution_count": null,
   "metadata": {},
   "outputs": [],
   "source": [
    "import cv2\n",
    "import numpy as np\n",
    "\n",
    "img = cv2.imread('C:\\\\Users\\\\user\\\\AI_vision\\\\data\\\\img\\\\gaussian_noise.jpg')\n",
    "\n",
    "# 가우시안 커널을 직접 생성해서 블러링  ---①\n",
    "k1 = np.array([[1, 2, 1],\n",
    "                   [2, 4, 2],\n",
    "                   [1, 2, 1]]) *(1/16)\n",
    "blur1 = cv2.filter2D(img, -1, k1)\n",
    "\n",
    "# 가우시안 커널을 API로 얻어서 블러링 ---②\n",
    "k2 = cv2.getGaussianKernel(3, 0)\n",
    "blur2 = cv2.filter2D(img, -1, k2*k2.T)\n",
    "\n",
    "# 가우시안 블러 API로 블러링 ---③\n",
    "blur3 = cv2.GaussianBlur(img, (3, 3), 0)\n",
    "\n",
    "# 결과 출력\n",
    "print('k1:', k1)\n",
    "print('k2:', k2*k2.T)\n",
    "merged = np.hstack((img, blur1, blur2, blur3))\n",
    "cv2.imshow('gaussian blur', merged)\n",
    "cv2.waitKey(0)\n",
    "cv2.destroyAllWindows()"
   ]
  },
  {
   "cell_type": "code",
   "execution_count": null,
   "metadata": {},
   "outputs": [],
   "source": []
  }
 ],
 "metadata": {
  "kernelspec": {
   "display_name": "Python 3",
   "language": "python",
   "name": "python3"
  },
  "language_info": {
   "codemirror_mode": {
    "name": "ipython",
    "version": 3
   },
   "file_extension": ".py",
   "mimetype": "text/x-python",
   "name": "python",
   "nbconvert_exporter": "python",
   "pygments_lexer": "ipython3",
   "version": "3.7.3"
  }
 },
 "nbformat": 4,
 "nbformat_minor": 2
}
